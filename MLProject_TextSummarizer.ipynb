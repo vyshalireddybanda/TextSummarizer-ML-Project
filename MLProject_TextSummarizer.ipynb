{
  "nbformat": 4,
  "nbformat_minor": 0,
  "metadata": {
    "colab": {
      "name": "MLProject-TextSummarizer.ipynb",
      "provenance": []
    },
    "kernelspec": {
      "name": "python3",
      "display_name": "Python 3"
    },
    "language_info": {
      "name": "python"
    },
    "accelerator": "GPU"
  },
  "cells": [
    {
      "cell_type": "code",
      "metadata": {
        "colab": {
          "base_uri": "https://localhost:8080/"
        },
        "id": "RkXaHQzQ-UJ8",
        "outputId": "a3fab897-da22-4c8d-a5ad-e288f4424196"
      },
      "source": [
        "import numpy as np\n",
        "import pandas as pd \n",
        "import re\n",
        "from keras.preprocessing.text import Tokenizer \n",
        "from nltk import download\n",
        "download('stopwords')\n",
        "from nltk.corpus import stopwords\n",
        "from tensorflow.keras.layers import Input, LSTM, Embedding, Dense, Concatenate, TimeDistributed\n",
        "from tensorflow.keras.models import Model\n",
        "from tensorflow.keras.callbacks import EarlyStopping\n",
        "import warnings\n",
        "pd.set_option(\"display.max_colwidth\", 200)\n",
        "warnings.filterwarnings(\"ignore\")"
      ],
      "execution_count": null,
      "outputs": [
        {
          "output_type": "stream",
          "text": [
            "[nltk_data] Downloading package stopwords to /root/nltk_data...\n",
            "[nltk_data]   Unzipping corpora/stopwords.zip.\n"
          ],
          "name": "stdout"
        }
      ]
    },
    {
      "cell_type": "code",
      "metadata": {
        "colab": {
          "resources": {
            "http://localhost:8080/nbextensions/google.colab/files.js": {
              "data": "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",
              "ok": true,
              "headers": [
                [
                  "content-type",
                  "application/javascript"
                ]
              ],
              "status": 200,
              "status_text": ""
            }
          },
          "base_uri": "https://localhost:8080/",
          "height": 74
        },
        "id": "KXWQhCqu-2np",
        "outputId": "64ff457a-ba97-4376-c4d0-8b7a51122651"
      },
      "source": [
        "from google.colab import files\n",
        "src = list(files.upload().values())[0]\n",
        "open('/content/drive/MyDrive/Colab Notebooks/attention.py','wb').write(src)\n",
        "import attention"
      ],
      "execution_count": null,
      "outputs": [
        {
          "output_type": "display_data",
          "data": {
            "text/html": [
              "\n",
              "     <input type=\"file\" id=\"files-0c1f54b0-f1d9-4519-817b-70de61770244\" name=\"files[]\" multiple disabled\n",
              "        style=\"border:none\" />\n",
              "     <output id=\"result-0c1f54b0-f1d9-4519-817b-70de61770244\">\n",
              "      Upload widget is only available when the cell has been executed in the\n",
              "      current browser session. Please rerun this cell to enable.\n",
              "      </output>\n",
              "      <script src=\"/nbextensions/google.colab/files.js\"></script> "
            ],
            "text/plain": [
              "<IPython.core.display.HTML object>"
            ]
          },
          "metadata": {
            "tags": []
          }
        },
        {
          "output_type": "stream",
          "text": [
            "Saving attention.py to attention.py\n"
          ],
          "name": "stdout"
        }
      ]
    },
    {
      "cell_type": "code",
      "metadata": {
        "id": "OAMMy5YZX3AQ"
      },
      "source": [
        "from attention import AttentionLayer"
      ],
      "execution_count": null,
      "outputs": []
    },
    {
      "cell_type": "code",
      "metadata": {
        "id": "XrlJ_r1tX74x"
      },
      "source": [
        "data=pd.read_csv(\"/content/drive/MyDrive/Wise ML/Reviews.csv\",nrows=100000)"
      ],
      "execution_count": null,
      "outputs": []
    },
    {
      "cell_type": "code",
      "metadata": {
        "id": "L3zUC2J6Yc2v"
      },
      "source": [
        "data.drop_duplicates(subset=['Text'],inplace=True)#dropping duplicates\n",
        "data.dropna(axis=0,inplace=True)#dropping na"
      ],
      "execution_count": null,
      "outputs": []
    },
    {
      "cell_type": "code",
      "metadata": {
        "colab": {
          "base_uri": "https://localhost:8080/"
        },
        "id": "VOkOa08-Yfb7",
        "outputId": "b558deaf-eb86-4d02-8f33-d7a7fdcda2d1"
      },
      "source": [
        "data.info()"
      ],
      "execution_count": null,
      "outputs": [
        {
          "output_type": "stream",
          "text": [
            "<class 'pandas.core.frame.DataFrame'>\n",
            "Int64Index: 88421 entries, 0 to 99999\n",
            "Data columns (total 10 columns):\n",
            " #   Column                  Non-Null Count  Dtype \n",
            "---  ------                  --------------  ----- \n",
            " 0   Id                      88421 non-null  int64 \n",
            " 1   ProductId               88421 non-null  object\n",
            " 2   UserId                  88421 non-null  object\n",
            " 3   ProfileName             88421 non-null  object\n",
            " 4   HelpfulnessNumerator    88421 non-null  int64 \n",
            " 5   HelpfulnessDenominator  88421 non-null  int64 \n",
            " 6   Score                   88421 non-null  int64 \n",
            " 7   Time                    88421 non-null  int64 \n",
            " 8   Summary                 88421 non-null  object\n",
            " 9   Text                    88421 non-null  object\n",
            "dtypes: int64(5), object(5)\n",
            "memory usage: 7.4+ MB\n"
          ],
          "name": "stdout"
        }
      ]
    },
    {
      "cell_type": "code",
      "metadata": {
        "id": "o-qjwpErYjVe"
      },
      "source": [
        "contraction_mapping = {\"ain't\": \"is not\", \"aren't\": \"are not\",\"can't\": \"cannot\", \"'cause\": \"because\", \"could've\": \"could have\", \"couldn't\": \"could not\",\n",
        "                           \"didn't\": \"did not\",  \"doesn't\": \"does not\", \"don't\": \"do not\", \"hadn't\": \"had not\", \"hasn't\": \"has not\", \"haven't\": \"have not\",\n",
        "                           \"he'd\": \"he would\",\"he'll\": \"he will\", \"he's\": \"he is\", \"how'd\": \"how did\", \"how'd'y\": \"how do you\", \"how'll\": \"how will\", \"how's\": \"how is\",\n",
        "                           \"I'd\": \"I would\", \"I'd've\": \"I would have\", \"I'll\": \"I will\", \"I'll've\": \"I will have\",\"I'm\": \"I am\", \"I've\": \"I have\", \"i'd\": \"i would\",\n",
        "                           \"i'd've\": \"i would have\", \"i'll\": \"i will\",  \"i'll've\": \"i will have\",\"i'm\": \"i am\", \"i've\": \"i have\", \"isn't\": \"is not\", \"it'd\": \"it would\",\n",
        "                           \"it'd've\": \"it would have\", \"it'll\": \"it will\", \"it'll've\": \"it will have\",\"it's\": \"it is\", \"let's\": \"let us\", \"ma'am\": \"madam\",\n",
        "                           \"mayn't\": \"may not\", \"might've\": \"might have\",\"mightn't\": \"might not\",\"mightn't've\": \"might not have\", \"must've\": \"must have\",\n",
        "                           \"mustn't\": \"must not\", \"mustn't've\": \"must not have\", \"needn't\": \"need not\", \"needn't've\": \"need not have\",\"o'clock\": \"of the clock\",\n",
        "                           \"oughtn't\": \"ought not\", \"oughtn't've\": \"ought not have\", \"shan't\": \"shall not\", \"sha'n't\": \"shall not\", \"shan't've\": \"shall not have\",\n",
        "                           \"she'd\": \"she would\", \"she'd've\": \"she would have\", \"she'll\": \"she will\", \"she'll've\": \"she will have\", \"she's\": \"she is\",\n",
        "                           \"should've\": \"should have\", \"shouldn't\": \"should not\", \"shouldn't've\": \"should not have\", \"so've\": \"so have\",\"so's\": \"so as\",\n",
        "                           \"this's\": \"this is\",\"that'd\": \"that would\", \"that'd've\": \"that would have\", \"that's\": \"that is\", \"there'd\": \"there would\",\n",
        "                           \"there'd've\": \"there would have\", \"there's\": \"there is\", \"here's\": \"here is\",\"they'd\": \"they would\", \"they'd've\": \"they would have\",\n",
        "                           \"they'll\": \"they will\", \"they'll've\": \"they will have\", \"they're\": \"they are\", \"they've\": \"they have\", \"to've\": \"to have\",\n",
        "                           \"wasn't\": \"was not\", \"we'd\": \"we would\", \"we'd've\": \"we would have\", \"we'll\": \"we will\", \"we'll've\": \"we will have\", \"we're\": \"we are\",\n",
        "                           \"we've\": \"we have\", \"weren't\": \"were not\", \"what'll\": \"what will\", \"what'll've\": \"what will have\", \"what're\": \"what are\",\n",
        "                           \"what's\": \"what is\", \"what've\": \"what have\", \"when's\": \"when is\", \"when've\": \"when have\", \"where'd\": \"where did\", \"where's\": \"where is\",\n",
        "                           \"where've\": \"where have\", \"who'll\": \"who will\", \"who'll've\": \"who will have\", \"who's\": \"who is\", \"who've\": \"who have\",\n",
        "                           \"why's\": \"why is\", \"why've\": \"why have\", \"will've\": \"will have\", \"won't\": \"will not\", \"won't've\": \"will not have\",\n",
        "                           \"would've\": \"would have\", \"wouldn't\": \"would not\", \"wouldn't've\": \"would not have\", \"y'all\": \"you all\",\n",
        "                           \"y'all'd\": \"you all would\",\"y'all'd've\": \"you all would have\",\"y'all're\": \"you all are\",\"y'all've\": \"you all have\",\n",
        "                           \"you'd\": \"you would\", \"you'd've\": \"you would have\", \"you'll\": \"you will\", \"you'll've\": \"you will have\",\n",
        "                           \"you're\": \"you are\", \"you've\": \"you have\"}"
      ],
      "execution_count": null,
      "outputs": []
    },
    {
      "cell_type": "code",
      "metadata": {
        "id": "VsFqtw_tY0og"
      },
      "source": [
        "from bs4 import BeautifulSoup"
      ],
      "execution_count": null,
      "outputs": []
    },
    {
      "cell_type": "code",
      "metadata": {
        "id": "LhRC46jyYkG1"
      },
      "source": [
        "stop_words = set(stopwords.words('english')) \n",
        "\n",
        "def text_cleaner(text,num):\n",
        "    newString = text.lower()\n",
        "    newString = BeautifulSoup(newString, \"lxml\").text\n",
        "    newString = re.sub(r'\\([^)]*\\)', '', newString)\n",
        "    newString = re.sub('\"','', newString)\n",
        "    newString = ' '.join([contraction_mapping[t] if t in contraction_mapping else t for t in newString.split(\" \")])    \n",
        "    newString = re.sub(r\"'s\\b\",\"\",newString)\n",
        "    newString = re.sub(\"[^a-zA-Z]\", \" \", newString) \n",
        "    newString = re.sub('[m]{2,}', 'mm', newString)\n",
        "    if(num==0):\n",
        "        tokens = [w for w in newString.split() if not w in stop_words]\n",
        "    else:\n",
        "        tokens=newString.split()\n",
        "    long_words=[]\n",
        "    for i in tokens:\n",
        "        if len(i)>1:                                                 #removing short word\n",
        "            long_words.append(i)   \n",
        "    return (\" \".join(long_words)).strip()"
      ],
      "execution_count": null,
      "outputs": []
    },
    {
      "cell_type": "code",
      "metadata": {
        "id": "d9H3jxUmYmkv"
      },
      "source": [
        "cleaned_text = []\n",
        "for t in data['Text']:\n",
        "    cleaned_text.append(text_cleaner(t,0))"
      ],
      "execution_count": null,
      "outputs": []
    },
    {
      "cell_type": "code",
      "metadata": {
        "colab": {
          "base_uri": "https://localhost:8080/"
        },
        "id": "153nxE0KY2gs",
        "outputId": "31a23fc1-fcc0-463e-debd-d6461153422b"
      },
      "source": [
        "cleaned_text[:5]"
      ],
      "execution_count": null,
      "outputs": [
        {
          "output_type": "execute_result",
          "data": {
            "text/plain": [
              "['bought several vitality canned dog food products found good quality product looks like stew processed meat smells better labrador finicky appreciates product better',\n",
              " 'product arrived labeled jumbo salted peanuts peanuts actually small sized unsalted sure error vendor intended represent product jumbo',\n",
              " 'confection around centuries light pillowy citrus gelatin nuts case filberts cut tiny squares liberally coated powdered sugar tiny mouthful heaven chewy flavorful highly recommend yummy treat familiar story lewis lion witch wardrobe treat seduces edmund selling brother sisters witch',\n",
              " 'looking secret ingredient robitussin believe found got addition root beer extract ordered made cherry soda flavor medicinal',\n",
              " 'great taffy great price wide assortment yummy taffy delivery quick taffy lover deal']"
            ]
          },
          "metadata": {
            "tags": []
          },
          "execution_count": 11
        }
      ]
    },
    {
      "cell_type": "code",
      "metadata": {
        "id": "shkVDsM_Yojw"
      },
      "source": [
        "cleaned_summary = []\n",
        "for t in data['Summary']:\n",
        "    cleaned_summary.append(text_cleaner(t,1))"
      ],
      "execution_count": null,
      "outputs": []
    },
    {
      "cell_type": "code",
      "metadata": {
        "colab": {
          "base_uri": "https://localhost:8080/"
        },
        "id": "kMXp_RC-Y8kA",
        "outputId": "4c0051cc-f514-47b8-ecec-cbefe7aedb18"
      },
      "source": [
        "cleaned_summary[:10]"
      ],
      "execution_count": null,
      "outputs": [
        {
          "output_type": "execute_result",
          "data": {
            "text/plain": [
              "['good quality dog food',\n",
              " 'not as advertised',\n",
              " 'delight says it all',\n",
              " 'cough medicine',\n",
              " 'great taffy',\n",
              " 'nice taffy',\n",
              " 'great just as good as the expensive brands',\n",
              " 'wonderful tasty taffy',\n",
              " 'yay barley',\n",
              " 'healthy dog food']"
            ]
          },
          "metadata": {
            "tags": []
          },
          "execution_count": 13
        }
      ]
    },
    {
      "cell_type": "code",
      "metadata": {
        "id": "Jb2Unt-_ZAgl"
      },
      "source": [
        "data['cleaned_text']=cleaned_text\n",
        "data['cleaned_summary']=cleaned_summary"
      ],
      "execution_count": null,
      "outputs": []
    },
    {
      "cell_type": "code",
      "metadata": {
        "id": "EaG50d4fZCbm"
      },
      "source": [
        "data.replace('', np.nan, inplace=True)\n",
        "data.dropna(axis=0,inplace=True)"
      ],
      "execution_count": null,
      "outputs": []
    },
    {
      "cell_type": "code",
      "metadata": {
        "colab": {
          "base_uri": "https://localhost:8080/",
          "height": 281
        },
        "id": "ix5-hhZ_ZEYo",
        "outputId": "2a72970b-5894-48c3-e7b0-c07bac37aee6"
      },
      "source": [
        "import matplotlib.pyplot as plt\n",
        "\n",
        "text_word_count = []\n",
        "summary_word_count = []\n",
        "\n",
        "# populate the lists with sentence lengths\n",
        "for i in data['cleaned_text']:\n",
        "      text_word_count.append(len(i.split()))\n",
        "\n",
        "for i in data['cleaned_summary']:\n",
        "      summary_word_count.append(len(i.split()))\n",
        "\n",
        "length_df = pd.DataFrame({'text':text_word_count, 'summary':summary_word_count})\n",
        "\n",
        "length_df.hist(bins = 30)\n",
        "plt.show()\n"
      ],
      "execution_count": null,
      "outputs": [
        {
          "output_type": "display_data",
          "data": {
            "image/png": "[encoded data removed]",
            "text/plain": [
              "<Figure size 432x288 with 2 Axes>"
            ]
          },
          "metadata": {
            "tags": [],
            "needs_background": "light"
          }
        }
      ]
    },
    {
      "cell_type": "code",
      "metadata": {
        "colab": {
          "base_uri": "https://localhost:8080/"
        },
        "id": "bDAGjAW_ZIRz",
        "outputId": "fbe0e594-37c2-4e2b-bde7-4d7ad5ac0d63"
      },
      "source": [
        "cnt=0\n",
        "for i in data['cleaned_summary']:\n",
        "    if(len(i.split())<=8):\n",
        "        cnt=cnt+1\n",
        "print(cnt/len(data['cleaned_summary']))"
      ],
      "execution_count": null,
      "outputs": [
        {
          "output_type": "stream",
          "text": [
            "0.9424926998211739\n"
          ],
          "name": "stdout"
        }
      ]
    },
    {
      "cell_type": "code",
      "metadata": {
        "id": "1QdDZOfcZOgK"
      },
      "source": [
        "max_text_len=30\n",
        "max_summary_len=8"
      ],
      "execution_count": null,
      "outputs": []
    },
    {
      "cell_type": "code",
      "metadata": {
        "id": "zLgSCnT2ZQi0"
      },
      "source": [
        "cleaned_text =np.array(data['cleaned_text'])\n",
        "cleaned_summary=np.array(data['cleaned_summary'])\n",
        "\n",
        "short_text=[]\n",
        "short_summary=[]\n",
        "\n",
        "for i in range(len(cleaned_text)):\n",
        "    if(len(cleaned_summary[i].split())<=max_summary_len and len(cleaned_text[i].split())<=max_text_len):\n",
        "        short_text.append(cleaned_text[i])\n",
        "        short_summary.append(cleaned_summary[i])\n",
        "        \n",
        "df=pd.DataFrame({'text':short_text,'summary':short_summary})"
      ],
      "execution_count": null,
      "outputs": []
    },
    {
      "cell_type": "code",
      "metadata": {
        "id": "0h2CHDizZTJw"
      },
      "source": [
        "df['summary'] = df['summary'].apply(lambda x : 'sostok '+ x + ' eostok')"
      ],
      "execution_count": null,
      "outputs": []
    },
    {
      "cell_type": "code",
      "metadata": {
        "id": "1AANHtx8ZVKX"
      },
      "source": [
        "from sklearn.model_selection import train_test_split\n",
        "x_tr,x_val,y_tr,y_val=train_test_split(np.array(df['text']),np.array(df['summary']),test_size=0.1,random_state=0,shuffle=True)"
      ],
      "execution_count": null,
      "outputs": []
    },
    {
      "cell_type": "code",
      "metadata": {
        "id": "PE2B45KDZXbX"
      },
      "source": [
        "from keras.preprocessing.text import Tokenizer \n",
        "from keras.preprocessing.sequence import pad_sequences\n",
        "\n",
        "#prepare a tokenizer for reviews on training data\n",
        "x_tokenizer = Tokenizer() \n",
        "x_tokenizer.fit_on_texts(list(x_tr))"
      ],
      "execution_count": null,
      "outputs": []
    },
    {
      "cell_type": "code",
      "metadata": {
        "colab": {
          "base_uri": "https://localhost:8080/"
        },
        "id": "NqedbRqkZci5",
        "outputId": "f95c83db-2b55-445d-f438-39d88eeab248"
      },
      "source": [
        "thresh=4\n",
        "\n",
        "cnt=0\n",
        "tot_cnt=0\n",
        "freq=0\n",
        "tot_freq=0\n",
        "\n",
        "for key,value in x_tokenizer.word_counts.items():\n",
        "    tot_cnt=tot_cnt+1\n",
        "    tot_freq=tot_freq+value\n",
        "    if(value<thresh):\n",
        "        cnt=cnt+1\n",
        "        freq=freq+value\n",
        "    \n",
        "print(\"% of rare words in vocabulary:\",(cnt/tot_cnt)*100)\n",
        "print(\"Total Coverage of rare words:\",(freq/tot_freq)*100)"
      ],
      "execution_count": null,
      "outputs": [
        {
          "output_type": "stream",
          "text": [
            "% of rare words in vocabulary: 66.01933956586285\n",
            "Total Coverage of rare words: 2.9458832073245063\n"
          ],
          "name": "stdout"
        }
      ]
    },
    {
      "cell_type": "code",
      "metadata": {
        "id": "0cGlROtNZfsC"
      },
      "source": [
        "#prepare a tokenizer for reviews on training data\n",
        "x_tokenizer = Tokenizer(num_words=tot_cnt-cnt) \n",
        "x_tokenizer.fit_on_texts(list(x_tr))\n",
        "\n",
        "#convert text sequences into integer sequences\n",
        "x_tr_seq    =   x_tokenizer.texts_to_sequences(x_tr) \n",
        "x_val_seq   =   x_tokenizer.texts_to_sequences(x_val)\n",
        "\n",
        "#padding zero upto maximum length\n",
        "x_tr    =   pad_sequences(x_tr_seq,  maxlen=max_text_len, padding='post')\n",
        "x_val   =   pad_sequences(x_val_seq, maxlen=max_text_len, padding='post')\n",
        "\n",
        "#size of vocabulary ( +1 for padding token)\n",
        "x_voc   =  x_tokenizer.num_words + 1"
      ],
      "execution_count": null,
      "outputs": []
    },
    {
      "cell_type": "code",
      "metadata": {
        "colab": {
          "base_uri": "https://localhost:8080/"
        },
        "id": "neC5gEcdZh-z",
        "outputId": "dc26e6cf-3f4d-4862-89a5-a7bf028efaca"
      },
      "source": [
        "x_voc"
      ],
      "execution_count": null,
      "outputs": [
        {
          "output_type": "execute_result",
          "data": {
            "text/plain": [
              "8470"
            ]
          },
          "metadata": {
            "tags": []
          },
          "execution_count": 25
        }
      ]
    },
    {
      "cell_type": "code",
      "metadata": {
        "id": "i-2NxmvLZiCK"
      },
      "source": [
        "#prepare a tokenizer for reviews on training data\n",
        "y_tokenizer = Tokenizer()   \n",
        "y_tokenizer.fit_on_texts(list(y_tr))"
      ],
      "execution_count": null,
      "outputs": []
    },
    {
      "cell_type": "code",
      "metadata": {
        "colab": {
          "base_uri": "https://localhost:8080/"
        },
        "id": "z3ol9j2VZiHd",
        "outputId": "c82b688c-1d43-48ff-d5a8-0de44d01f126"
      },
      "source": [
        "thresh=6\n",
        "\n",
        "cnt=0\n",
        "tot_cnt=0\n",
        "freq=0\n",
        "tot_freq=0\n",
        "\n",
        "for key,value in y_tokenizer.word_counts.items():\n",
        "    tot_cnt=tot_cnt+1\n",
        "    tot_freq=tot_freq+value\n",
        "    if(value<thresh):\n",
        "        cnt=cnt+1\n",
        "        freq=freq+value\n",
        "    \n",
        "print(\"% of rare words in vocabulary:\",(cnt/tot_cnt)*100)\n",
        "print(\"Total Coverage of rare words:\",(freq/tot_freq)*100)"
      ],
      "execution_count": null,
      "outputs": [
        {
          "output_type": "stream",
          "text": [
            "% of rare words in vocabulary: 77.8649574538623\n",
            "Total Coverage of rare words: 5.335341862086022\n"
          ],
          "name": "stdout"
        }
      ]
    },
    {
      "cell_type": "code",
      "metadata": {
        "id": "PmnJe6J5Zp8h"
      },
      "source": [
        "#prepare a tokenizer for reviews on training data\n",
        "y_tokenizer = Tokenizer(num_words=tot_cnt-cnt) \n",
        "y_tokenizer.fit_on_texts(list(y_tr))\n",
        "\n",
        "#convert text sequences into integer sequences\n",
        "y_tr_seq    =   y_tokenizer.texts_to_sequences(y_tr) \n",
        "y_val_seq   =   y_tokenizer.texts_to_sequences(y_val) \n",
        "\n",
        "#padding zero upto maximum length\n",
        "y_tr    =   pad_sequences(y_tr_seq, maxlen=max_summary_len, padding='post')\n",
        "y_val   =   pad_sequences(y_val_seq, maxlen=max_summary_len, padding='post')\n",
        "\n",
        "#size of vocabulary\n",
        "y_voc  =   y_tokenizer.num_words +1"
      ],
      "execution_count": null,
      "outputs": []
    },
    {
      "cell_type": "code",
      "metadata": {
        "colab": {
          "base_uri": "https://localhost:8080/"
        },
        "id": "UJs7o72IZsRM",
        "outputId": "aa6fb589-16f1-4a3e-8cd6-0a4fac4802b3"
      },
      "source": [
        "y_tokenizer.word_counts['sostok'],len(y_tr)"
      ],
      "execution_count": null,
      "outputs": [
        {
          "output_type": "execute_result",
          "data": {
            "text/plain": [
              "(42455, 42455)"
            ]
          },
          "metadata": {
            "tags": []
          },
          "execution_count": 29
        }
      ]
    },
    {
      "cell_type": "code",
      "metadata": {
        "id": "QfRywtoEZtJr"
      },
      "source": [
        "ind=[]\n",
        "for i in range(len(y_tr)):\n",
        "    cnt=0\n",
        "    for j in y_tr[i]:\n",
        "        if j!=0:\n",
        "            cnt=cnt+1\n",
        "    if(cnt==2):\n",
        "        ind.append(i)\n",
        "\n",
        "y_tr=np.delete(y_tr,ind, axis=0)\n",
        "x_tr=np.delete(x_tr,ind, axis=0)"
      ],
      "execution_count": null,
      "outputs": []
    },
    {
      "cell_type": "code",
      "metadata": {
        "id": "xDL-yqlMZwYE"
      },
      "source": [
        "\n",
        "ind=[]\n",
        "for i in range(len(y_val)):\n",
        "    cnt=0\n",
        "    for j in y_val[i]:\n",
        "        if j!=0:\n",
        "            cnt=cnt+1\n",
        "    if(cnt==2):\n",
        "        ind.append(i)\n",
        "\n",
        "y_val=np.delete(y_val,ind, axis=0)\n",
        "x_val=np.delete(x_val,ind, axis=0)"
      ],
      "execution_count": null,
      "outputs": []
    },
    {
      "cell_type": "code",
      "metadata": {
        "colab": {
          "base_uri": "https://localhost:8080/"
        },
        "id": "k3oXYUMDZzBR",
        "outputId": "1e2a6e62-c0c0-46dd-85ea-414e9763b485"
      },
      "source": [
        "from keras import backend as K \n",
        "K.clear_session()\n",
        "\n",
        "latent_dim = 300\n",
        "embedding_dim=100\n",
        "\n",
        "# Encoder\n",
        "encoder_inputs = Input(shape=(max_text_len,))\n",
        "\n",
        "#embedding layer\n",
        "enc_emb =  Embedding(x_voc, embedding_dim,trainable=True)(encoder_inputs)\n",
        "\n",
        "#encoder lstm 1\n",
        "encoder_lstm1 = LSTM(latent_dim,return_sequences=True,return_state=True,dropout=0.4,recurrent_dropout=0.4)\n",
        "encoder_output1, state_h1, state_c1 = encoder_lstm1(enc_emb)\n",
        "\n",
        "#encoder lstm 2\n",
        "encoder_lstm2 = LSTM(latent_dim,return_sequences=True,return_state=True,dropout=0.4,recurrent_dropout=0.4)\n",
        "encoder_output2, state_h2, state_c2 = encoder_lstm2(encoder_output1)\n",
        "\n",
        "#encoder lstm 3\n",
        "encoder_lstm3=LSTM(latent_dim, return_state=True, return_sequences=True,dropout=0.4,recurrent_dropout=0.4)\n",
        "encoder_outputs, state_h, state_c= encoder_lstm3(encoder_output2)\n",
        "\n",
        "# Set up the decoder, using `encoder_states` as initial state.\n",
        "decoder_inputs = Input(shape=(None,))\n",
        "\n",
        "#embedding layer\n",
        "dec_emb_layer = Embedding(y_voc, embedding_dim,trainable=True)\n",
        "dec_emb = dec_emb_layer(decoder_inputs)\n",
        "\n",
        "decoder_lstm = LSTM(latent_dim, return_sequences=True, return_state=True,dropout=0.4,recurrent_dropout=0.2)\n",
        "decoder_outputs,decoder_fwd_state, decoder_back_state = decoder_lstm(dec_emb,initial_state=[state_h, state_c])\n",
        "\n",
        "# Attention layer\n",
        "attn_layer = AttentionLayer(name='attention_layer')\n",
        "attn_out, attn_states = attn_layer([encoder_outputs, decoder_outputs])\n",
        "\n",
        "# Concat attention input and decoder LSTM output\n",
        "decoder_concat_input = Concatenate(axis=-1, name='concat_layer')([decoder_outputs, attn_out])\n",
        "\n",
        "#dense layer\n",
        "decoder_dense =  TimeDistributed(Dense(y_voc, activation='softmax'))\n",
        "decoder_outputs = decoder_dense(decoder_concat_input)\n",
        "\n",
        "# Define the model \n",
        "model = Model([encoder_inputs, decoder_inputs], decoder_outputs)\n",
        "\n",
        "model.summary()"
      ],
      "execution_count": null,
      "outputs": [
        {
          "output_type": "stream",
          "text": [
            "WARNING:tensorflow:Layer lstm will not use cuDNN kernels since it doesn't meet the criteria. It will use a generic GPU kernel as fallback when running on GPU.\n",
            "WARNING:tensorflow:Layer lstm_1 will not use cuDNN kernels since it doesn't meet the criteria. It will use a generic GPU kernel as fallback when running on GPU.\n",
            "WARNING:tensorflow:Layer lstm_2 will not use cuDNN kernels since it doesn't meet the criteria. It will use a generic GPU kernel as fallback when running on GPU.\n",
            "WARNING:tensorflow:Layer lstm_3 will not use cuDNN kernels since it doesn't meet the criteria. It will use a generic GPU kernel as fallback when running on GPU.\n",
            "Model: \"model\"\n",
            "__________________________________________________________________________________________________\n",
            "Layer (type)                    Output Shape         Param #     Connected to                     \n",
            "==================================================================================================\n",
            "input_1 (InputLayer)            [(None, 30)]         0                                            \n",
            "__________________________________________________________________________________________________\n",
            "embedding (Embedding)           (None, 30, 100)      847000      input_1[0][0]                    \n",
            "__________________________________________________________________________________________________\n",
            "lstm (LSTM)                     [(None, 30, 300), (N 481200      embedding[0][0]                  \n",
            "__________________________________________________________________________________________________\n",
            "input_2 (InputLayer)            [(None, None)]       0                                            \n",
            "__________________________________________________________________________________________________\n",
            "lstm_1 (LSTM)                   [(None, 30, 300), (N 721200      lstm[0][0]                       \n",
            "__________________________________________________________________________________________________\n",
            "embedding_1 (Embedding)         (None, None, 100)    200400      input_2[0][0]                    \n",
            "__________________________________________________________________________________________________\n",
            "lstm_2 (LSTM)                   [(None, 30, 300), (N 721200      lstm_1[0][0]                     \n",
            "__________________________________________________________________________________________________\n",
            "lstm_3 (LSTM)                   [(None, None, 300),  481200      embedding_1[0][0]                \n",
            "                                                                 lstm_2[0][1]                     \n",
            "                                                                 lstm_2[0][2]                     \n",
            "__________________________________________________________________________________________________\n",
            "attention_layer (AttentionLayer ((None, None, 300),  180300      lstm_2[0][0]                     \n",
            "                                                                 lstm_3[0][0]                     \n",
            "__________________________________________________________________________________________________\n",
            "concat_layer (Concatenate)      (None, None, 600)    0           lstm_3[0][0]                     \n",
            "                                                                 attention_layer[0][0]            \n",
            "__________________________________________________________________________________________________\n",
            "time_distributed (TimeDistribut (None, None, 2004)   1204404     concat_layer[0][0]               \n",
            "==================================================================================================\n",
            "Total params: 4,836,904\n",
            "Trainable params: 4,836,904\n",
            "Non-trainable params: 0\n",
            "__________________________________________________________________________________________________\n"
          ],
          "name": "stdout"
        }
      ]
    },
    {
      "cell_type": "code",
      "metadata": {
        "id": "NgBkAbKaZ7G9"
      },
      "source": [
        "model.compile(optimizer='rmsprop', loss='sparse_categorical_crossentropy')\n"
      ],
      "execution_count": null,
      "outputs": []
    },
    {
      "cell_type": "code",
      "metadata": {
        "id": "aBWaF1OOZ7Kx"
      },
      "source": [
        "es = EarlyStopping(monitor='val_loss', mode='min', verbose=1,patience=2)\n"
      ],
      "execution_count": null,
      "outputs": []
    },
    {
      "cell_type": "code",
      "metadata": {
        "colab": {
          "base_uri": "https://localhost:8080/"
        },
        "id": "okPBFFXgZ7Qb",
        "outputId": "b33cf347-aba5-43d7-c6b4-2f9ed44fef86"
      },
      "source": [
        "\n",
        "history=model.fit([x_tr,y_tr[:,:-1]], y_tr.reshape(y_tr.shape[0],y_tr.shape[1], 1)[:,1:] ,epochs=50,callbacks=[es],batch_size=128, validation_data=([x_val,y_val[:,:-1]], y_val.reshape(y_val.shape[0],y_val.shape[1], 1)[:,1:]))"
      ],
      "execution_count": null,
      "outputs": [
        {
          "output_type": "stream",
          "text": [
            "Epoch 1/50\n",
            "324/324 [==============================] - 139s 392ms/step - loss: 2.8244 - val_loss: 2.5735\n",
            "Epoch 2/50\n",
            "324/324 [==============================] - 126s 388ms/step - loss: 2.5016 - val_loss: 2.4208\n",
            "Epoch 3/50\n",
            "324/324 [==============================] - 126s 388ms/step - loss: 2.3570 - val_loss: 2.3008\n",
            "Epoch 4/50\n",
            "324/324 [==============================] - 126s 390ms/step - loss: 2.2574 - val_loss: 2.2342\n",
            "Epoch 5/50\n",
            "324/324 [==============================] - 126s 390ms/step - loss: 2.1858 - val_loss: 2.1907\n",
            "Epoch 6/50\n",
            "324/324 [==============================] - 127s 391ms/step - loss: 2.1289 - val_loss: 2.1543\n",
            "Epoch 7/50\n",
            "324/324 [==============================] - 126s 390ms/step - loss: 2.0780 - val_loss: 2.1238\n",
            "Epoch 8/50\n",
            "324/324 [==============================] - 128s 394ms/step - loss: 2.0348 - val_loss: 2.1070\n",
            "Epoch 9/50\n",
            "324/324 [==============================] - 127s 391ms/step - loss: 1.9942 - val_loss: 2.0835\n",
            "Epoch 10/50\n",
            "324/324 [==============================] - 126s 389ms/step - loss: 1.9565 - val_loss: 2.0705\n",
            "Epoch 11/50\n",
            "324/324 [==============================] - 126s 389ms/step - loss: 1.9234 - val_loss: 2.0595\n",
            "Epoch 12/50\n",
            "324/324 [==============================] - 126s 389ms/step - loss: 1.8928 - val_loss: 2.0535\n",
            "Epoch 13/50\n",
            "324/324 [==============================] - 127s 393ms/step - loss: 1.8631 - val_loss: 2.0543\n",
            "Epoch 14/50\n",
            "324/324 [==============================] - 127s 392ms/step - loss: 1.8339 - val_loss: 2.0397\n",
            "Epoch 15/50\n",
            "324/324 [==============================] - 127s 393ms/step - loss: 1.8085 - val_loss: 2.0373\n",
            "Epoch 16/50\n",
            "324/324 [==============================] - 127s 393ms/step - loss: 1.7829 - val_loss: 2.0400\n",
            "Epoch 17/50\n",
            "324/324 [==============================] - 127s 393ms/step - loss: 1.7577 - val_loss: 2.0388\n",
            "Epoch 00017: early stopping\n"
          ],
          "name": "stdout"
        }
      ]
    },
    {
      "cell_type": "code",
      "metadata": {
        "colab": {
          "base_uri": "https://localhost:8080/",
          "height": 265
        },
        "id": "swsQamu5o3Ep",
        "outputId": "a830046f-8580-4aef-93c8-9b3d63626886"
      },
      "source": [
        "from matplotlib import pyplot\n",
        "pyplot.plot(history.history['loss'], label='train')\n",
        "pyplot.plot(history.history['val_loss'], label='test')\n",
        "pyplot.legend()\n",
        "pyplot.show()\n"
      ],
      "execution_count": null,
      "outputs": [
        {
          "output_type": "display_data",
          "data": {
            "image/png": "[encoded data removed]",
            "text/plain": [
              "<Figure size 432x288 with 1 Axes>"
            ]
          },
          "metadata": {
            "tags": [],
            "needs_background": "light"
          }
        }
      ]
    },
    {
      "cell_type": "code",
      "metadata": {
        "id": "LjsmrpNoo6uy"
      },
      "source": [
        "reverse_target_word_index=y_tokenizer.index_word\n",
        "reverse_source_word_index=x_tokenizer.index_word\n",
        "target_word_index=y_tokenizer.word_index"
      ],
      "execution_count": null,
      "outputs": []
    },
    {
      "cell_type": "code",
      "metadata": {
        "id": "EYSvdikMo7lZ"
      },
      "source": [
        "# Encode the input sequence to get the feature vector\n",
        "encoder_model = Model(inputs=encoder_inputs,outputs=[encoder_outputs, state_h, state_c])\n",
        "\n",
        "# Decoder setup\n",
        "# Below tensors will hold the states of the previous time step\n",
        "decoder_state_input_h = Input(shape=(latent_dim,))\n",
        "decoder_state_input_c = Input(shape=(latent_dim,))\n",
        "decoder_hidden_state_input = Input(shape=(max_text_len,latent_dim))\n",
        "\n",
        "# Get the embeddings of the decoder sequence\n",
        "dec_emb2= dec_emb_layer(decoder_inputs) \n",
        "# To predict the next word in the sequence, set the initial states to the states from the previous time step\n",
        "decoder_outputs2, state_h2, state_c2 = decoder_lstm(dec_emb2, initial_state=[decoder_state_input_h, decoder_state_input_c])\n",
        "\n",
        "#attention inference\n",
        "attn_out_inf, attn_states_inf = attn_layer([decoder_hidden_state_input, decoder_outputs2])\n",
        "decoder_inf_concat = Concatenate(axis=-1, name='concat')([decoder_outputs2, attn_out_inf])\n",
        "\n",
        "# A dense softmax layer to generate prob dist. over the target vocabulary\n",
        "decoder_outputs2 = decoder_dense(decoder_inf_concat) \n",
        "\n",
        "# Final decoder model\n",
        "decoder_model = Model(\n",
        "    [decoder_inputs] + [decoder_hidden_state_input,decoder_state_input_h, decoder_state_input_c],\n",
        "    [decoder_outputs2] + [state_h2, state_c2])"
      ],
      "execution_count": null,
      "outputs": []
    },
    {
      "cell_type": "code",
      "metadata": {
        "id": "P_ZOFvPpo-0l"
      },
      "source": [
        "def decode_sequence(input_seq):\n",
        "    # Encode the input as state vectors.\n",
        "    e_out, e_h, e_c = encoder_model.predict(input_seq)\n",
        "    \n",
        "    # Generate empty target sequence of length 1.\n",
        "    target_seq = np.zeros((1,1))\n",
        "    \n",
        "    # Populate the first word of target sequence with the start word.\n",
        "    target_seq[0, 0] = target_word_index['sostok']\n",
        "\n",
        "    stop_condition = False\n",
        "    decoded_sentence = ''\n",
        "    while not stop_condition:\n",
        "      \n",
        "        output_tokens, h, c = decoder_model.predict([target_seq] + [e_out, e_h, e_c])\n",
        "\n",
        "        # Sample a token\n",
        "        sampled_token_index = np.argmax(output_tokens[0, -1, :])\n",
        "        sampled_token = reverse_target_word_index[sampled_token_index]\n",
        "        \n",
        "        if(sampled_token!='eostok'):\n",
        "            decoded_sentence += ' '+sampled_token\n",
        "\n",
        "        # Exit condition: either hit max length or find stop word.\n",
        "        if (sampled_token == 'eostok'  or len(decoded_sentence.split()) >= (max_summary_len-1)):\n",
        "            stop_condition = True\n",
        "\n",
        "        # Update the target sequence (of length 1).\n",
        "        target_seq = np.zeros((1,1))\n",
        "        target_seq[0, 0] = sampled_token_index\n",
        "\n",
        "        # Update internal states\n",
        "        e_h, e_c = h, c\n",
        "\n",
        "    return decoded_sentence"
      ],
      "execution_count": null,
      "outputs": []
    },
    {
      "cell_type": "code",
      "metadata": {
        "id": "0Q_EuerUpBX3"
      },
      "source": [
        "def seq2summary(input_seq):\n",
        "    newString=''\n",
        "    for i in input_seq:\n",
        "        if((i!=0 and i!=target_word_index['sostok']) and i!=target_word_index['eostok']):\n",
        "            newString=newString+reverse_target_word_index[i]+' '\n",
        "    return newString\n",
        "\n",
        "def seq2text(input_seq):\n",
        "    newString=''\n",
        "    for i in input_seq:\n",
        "        if(i!=0):\n",
        "            newString=newString+reverse_source_word_index[i]+' '\n",
        "    return newString"
      ],
      "execution_count": null,
      "outputs": []
    },
    {
      "cell_type": "code",
      "metadata": {
        "colab": {
          "base_uri": "https://localhost:8080/"
        },
        "id": "VLYNF-EepFHM",
        "outputId": "2b578e9a-5d5a-4018-a586-b3645f2d1bcf"
      },
      "source": [
        "for i in range(0,100):\n",
        "    print(\"Review:\",seq2text(x_tr[i]))\n",
        "    print(\"Original summary:\",seq2summary(y_tr[i]))\n",
        "    print(\"Predicted summary:\",decode_sequence(x_tr[i].reshape(1,max_text_len)))\n",
        "    print(\"\\n\")"
      ],
      "execution_count": null,
      "outputs": [
        {
          "output_type": "stream",
          "text": [
            "Review: stuffing stale recipe ingredients stuffing changed affected recipes used amazon customer service work corporate never responded shipper amazon every part transaction \n",
            "Original summary: bad \n",
            "Predicted summary:  great\n",
            "\n",
            "\n",
            "Review: dogs loved ate like giving treats shiny coat find sale sure buy \n",
            "Original summary: awesome \n",
            "Predicted summary:  my dogs love these\n",
            "\n",
            "\n",
            "Review: used mix easter breakfast church fed people got rave reviews everyone loved pancakes came back even mix house \n",
            "Original summary: amazing \n",
            "Predicted summary:  great product\n",
            "\n",
            "\n",
            "Review: purchased husband likes coffee strong one winner bitter strong enough run cup smaller amount water make oz cup coffee \n",
            "Original summary: nice dark \n",
            "Predicted summary:  good coffee\n",
            "\n",
            "\n",
            "Review: cannot beat amazon prices treats great training small great keep little tote training puppies small enough give bunch complaint stink guess dogs love would highly recommend \n",
            "Original summary: my dogs these \n",
            "Predicted summary:  great treat\n",
            "\n",
            "\n",
            "Review: tea recently every table hotels little tea chest selection teas saved packaging hope could find internet yeah favorite lemongrass excellent \n",
            "Original summary: had this tea in \n",
            "Predicted summary:  tea\n",
            "\n",
            "\n",
            "Review: best salad dressing delivered promptly quantities last vidalia onion dressing compares made oak hill farms sometimes find costco order front door want even orders cut shipping costs \n",
            "Original summary: my favorite salad dressing \n",
            "Predicted summary:  best mustard ever\n",
            "\n",
            "\n",
            "Review: one cereals fruit mix grain chemicals extracted fruit juice want really natural cereal one fruits taste disgusting look elsewhere \n",
            "Original summary: super fake \n",
            "Predicted summary:  tastes like cereal\n",
            "\n",
            "\n",
            "Review: milk thistle said good liver mellow pleasant flavor really enjoy drinking alvita brand always good quality teas \n",
            "Original summary: very pleasant flavor and good quality \n",
            "Predicted summary:  great tea\n",
            "\n",
            "\n",
            "Review: using sugar twin since make sun ice tea recently large chain grocery stores stopped stocking used tea sugar twin thrilled found amazon site \n",
            "Original summary: am glad can still buy this \n",
            "Predicted summary:  great tea\n",
            "\n",
            "\n",
            "Review: best natural canned dog food found still added vitamins minerals dogs savor \n",
            "Original summary: great food \n",
            "Predicted summary:  great food\n",
            "\n",
            "\n",
            "Review: liked coffee much subscribing dark rich smooth \n",
            "Original summary: makes great cup of java \n",
            "Predicted summary:  great coffee\n",
            "\n",
            "\n",
            "Review: son multiple food allergies excited find product children love taste much healthier granola bars available \n",
            "Original summary: allergy friendly \n",
            "Predicted summary:  great for kids\n",
            "\n",
            "\n",
            "Review: enough chai flavor balance thin chocolate taste loved rishi teas disappointing \n",
            "Original summary: disappointing \n",
            "Predicted summary:  not the best chai\n",
            "\n",
            "\n",
            "Review: tea tastiest green tea ever highly everyone drink every day hope anti magic \n",
            "Original summary: the best green tea \n",
            "Predicted summary:  love this tea\n",
            "\n",
            "\n",
            "Review: would recommend coffee anyone like smooth medium roast find flavor rich bitter satisfying \n",
            "Original summary: green mountain nantucket is the best \n",
            "Predicted summary:  great coffee\n",
            "\n",
            "\n",
            "Review: looking new extra bold coffee replace timothy midnight magic really liked tried like bitter unpleasant flavor shopping another brand \n",
            "Original summary: bitter unpleasant flavor \n",
            "Predicted summary:  not good\n",
            "\n",
            "\n",
            "Review: delicious flavor enhancer never go back kosher salt mild without biting aftertaste staple cabinet \n",
            "Original summary: must have \n",
            "Predicted summary:  delicious\n",
            "\n",
            "\n",
            "Review: dealing multiple food allergies give little variety great \n",
            "Original summary: little bites of heaven \n",
            "Predicted summary:  great food\n",
            "\n",
            "\n",
            "Review: excellent bold coffee weak coffee drinker coffee love tasting coffee love blend \n",
            "Original summary: big easy bold cups \n",
            "Predicted summary:  great coffee\n",
            "\n",
            "\n",
            "Review: good coffee coffee taste old flavor coffee worst ever used keurig pot wish could get money back \n",
            "Original summary: no flavor taste like old coffee \n",
            "Predicted summary:  not bad\n",
            "\n",
            "\n",
            "Review: sweet leaf products love natural good product great product good business seller buy future thanks \n",
            "Original summary: great product \n",
            "Predicted summary:  great product\n",
            "\n",
            "\n",
            "Review: strong much flavor little aroma tried purchase another time similiar brands met standards expected \n",
            "Original summary: no flavor \n",
            "Predicted summary:  good coffee\n",
            "\n",
            "\n",
            "Review: information description says senior greenie large photo shows regular well treats versus ounce anyone reviews actual product would much appreciated \n",
            "Original summary: photo and description \n",
            "Predicted summary:  not for dogs\n",
            "\n",
            "\n",
            "Review: coffee rich delicious live near starbucks store drink alot coffee visit daughters coffee easily compares best \n",
            "Original summary: coffee lover \n",
            "Predicted summary:  great coffee\n",
            "\n",
            "\n",
            "Review: bought coffee strength reviews dead excellent coffee \n",
            "Original summary: agree \n",
            "Predicted summary:  coffee\n",
            "\n",
            "\n",
            "Review: really like suckers taste good one broken whole box happy product gave stars big thought would sucker size versus small lollipop size \n",
            "Original summary: great taste \n",
            "Predicted summary:  good but not great\n",
            "\n",
            "\n",
            "Review: like chips like health problems associated eating try simply put potatoes flavoring spend time baking potato open bag pop chips \n",
            "Original summary: chips without all the \n",
            "Predicted summary:  great chips\n",
            "\n",
            "\n",
            "Review: product well enough keep fresh coat would expect application last longer two hours otherwise product performs advertised combine use clothes stay bug free without usual stink \n",
            "Original summary: good but not long lasting \n",
            "Predicted summary:  my dog loves this\n",
            "\n",
            "\n",
            "Review: product totally worth money sweets fabulous taste bought lb blue container amount look like lb display picture true content would definitely buy \n",
            "Original summary: totally not worth it \n",
            "Predicted summary:  not as advertised\n",
            "\n",
            "\n",
            "Review: expensive nasty low protein really understand product got good reviews taste nasty drunk rest toilet bad \n",
            "Original summary: nasty taste \n",
            "Predicted summary:  yuck\n",
            "\n",
            "\n",
            "Review: delicious kind bar like eating candy bar except good \n",
            "Original summary: pb chocolate kind bar \n",
            "Predicted summary:  delicious\n",
            "\n",
            "\n",
            "Review: favorite cup last years unfortunately wasnt locally available thanks amazon got incredible price boxes last months \n",
            "Original summary: one great cup of tea \n",
            "Predicted summary:  great coffee\n",
            "\n",
            "\n",
            "Review: give dog greenie morning loves vet goes says best keeping teeth strong clean highly recommend dog cat health \n",
            "Original summary: dogs love greenies \n",
            "Predicted summary:  great product\n",
            "\n",
            "\n",
            "Review: dog likes get right away awkward carry messy since sometimes give little get anything come sometimes decides oh want sticky puppy since lost interest prefers treats smell better \n",
            "Original summary: not sure how to feel \n",
            "Predicted summary:  my dog loves this\n",
            "\n",
            "\n",
            "Review: consuming sticks starting next box best way eat warm microwave eat anything nothing ray \n",
            "Original summary: jack link beef sticks \n",
            "Predicted summary:  great product\n",
            "\n",
            "\n",
            "Review: dogs loves soft stinky treats great training small enough give lot concerned giving dog much food also healthy ingredients one treats gsd \n",
            "Original summary: great training treat \n",
            "Predicted summary:  great treat\n",
            "\n",
            "\n",
            "Review: pricey essentially small bag hard crumbs maybe dog spoiled treats like third class treats definitely bottom doggie treat often simply walk away glad people like buying \n",
            "Original summary: waste of money \n",
            "Predicted summary:  dog treats\n",
            "\n",
            "\n",
            "Review: tried really inexpensive balsamic vinegars really expensive hands one best tastes good year stuff cost oz try probably never buy another brand balsamic vinegar \n",
            "Original summary: full of flavor \n",
            "Predicted summary:  great flavor\n",
            "\n",
            "\n",
            "Review: little pricey absolutely best whole wheat spaghetti ever eaten order enjoy \n",
            "Original summary: yum yum \n",
            "Predicted summary:  best gluten free bread\n",
            "\n",
            "\n",
            "Review: pink color nice bright made candy hearts came also used cake pops mixed little amount paramount crystals liquid enough coating cake pops liquids much better wilton paramount crystals \n",
            "Original summary: nice color \n",
            "Predicted summary:  not as advertised\n",
            "\n",
            "\n",
            "Review: nurse often get time eat lunch work keep stash locker grab one blood sugar starts get low delicious moist flavorful also nothing artificial give grams fiber highly recommend \n",
            "Original summary: amazingly delicious healthy too \n",
            "Predicted summary:  delicious\n",
            "\n",
            "\n",
            "Review: bought one also one comes stand nice liked idea put either gum candy adjust much comes almost months works perfect large gumball bank going buy couple christmas gifts \n",
            "Original summary: really nice and candy \n",
            "Predicted summary:  great product\n",
            "\n",
            "\n",
            "Review: like strong coffee coffee rated found weak sickening taste \n",
            "Original summary: disapointed \n",
            "Predicted summary:  weak coffee\n",
            "\n",
            "\n",
            "Review: saw peanut butter chocolate cereal knew try pleased eat chocolate breakfast feel guilty two kids love cereal well great eat alone favorite milk product yogurt mix homemade granola well \n",
            "Original summary: the bomb yummy \n",
            "Predicted summary:  great for protein\n",
            "\n",
            "\n",
            "Review: tried hot cold liked hot version felt satisfying spicy right found another version without honey plan check next \n",
            "Original summary: nice \n",
            "Predicted summary:  hot sauce\n",
            "\n",
            "\n",
            "Review: true also need decent scale tried caviar recipe everything worked perfectly first try fun easy make kit comes large enough samples looks like good uses \n",
            "Original summary: great to \n",
            "Predicted summary:  great product\n",
            "\n",
            "\n",
            "Review: pez candy good happy stock thank much getting quickly hope business thank much thomas adams \n",
            "Original summary: pez candy \n",
            "Predicted summary:  great product\n",
            "\n",
            "\n",
            "Review: tulsi green tea great good iced tea well \n",
            "Original summary: green tea \n",
            "Predicted summary:  great tea\n",
            "\n",
            "\n",
            "Review: favorite black tea available grocery stores get bulk amazon \n",
            "Original summary: good tea \n",
            "Predicted summary:  love this tea\n",
            "\n",
            "\n",
            "Review: compared brand tomato product less sodium natural ingredients excellent taste look reduced sodium tomatoes significantly better \n",
            "Original summary: superior tomato product \n",
            "Predicted summary:  good product\n",
            "\n",
            "\n",
            "Review: cat wok one two cats ultimate favorite flavor brand cat food unfortunately third cat eat canned food matter try give \n",
            "Original summary: winner \n",
            "Predicted summary:  my cats love it\n",
            "\n",
            "\n",
            "Review: never disappointed breakfast blend coffee green mountain coffee always fresh makes smooth cup coffee never bitter \n",
            "Original summary: breakfast blend the best \n",
            "Predicted summary:  great coffee\n",
            "\n",
            "\n",
            "Review: got hubby father day bad best cashews crunchy flavorable passable cashew nut would recommend \n",
            "Original summary: ok \n",
            "Predicted summary:  yummy\n",
            "\n",
            "\n",
            "Review: true newmans line products cup bold decaf fail quality coffee bold rich much better two brands decaf cup tried closest taste regular coffee coffee nut \n",
            "Original summary: newman organic cup decaf \n",
            "Predicted summary:  great coffee\n",
            "\n",
            "\n",
            "Review: tug jug seems really gotten hold dogs day one far sign letting even night sometimes alas seems built taken outside well may order second one stop fighting \n",
            "Original summary: very versatile toy \n",
            "Predicted summary:  dogs love it\n",
            "\n",
            "\n",
            "Review: drink cups day verona italian french roast coffee wanted try lower acid version brand coffee smells tastes like vinegar totally unpalatable better drinking water acid coffee bothers \n",
            "Original summary: single worst coffee ever \n",
            "Predicted summary:  not as good as the last\n",
            "\n",
            "\n",
            "Review: impressed first small joke second taste horrible tried flavors bad one distinct taste something buy \n",
            "Original summary: not impressed \n",
            "Predicted summary:  horrible\n",
            "\n",
            "\n",
            "Review: reason sent mini small swedish fish regular sized ones led believe however still lb bag candy good tasting taken star order error \n",
            "Original summary: nice candy but they made mistake \n",
            "Predicted summary:  not as expected\n",
            "\n",
            "\n",
            "Review: flavor fizzy drink tastes like black cherry kids loved none left opened tastey way better soda good \n",
            "Original summary: super delicious \n",
            "Predicted summary:  good but not great\n",
            "\n",
            "\n",
            "Review: one little bottle get extra energy \n",
            "Original summary: gave me up \n",
            "Predicted summary:  great product\n",
            "\n",
            "\n",
            "Review: tea great rich flavor good sweeten anything would recommend anyone would like tea could without sweetners nd batch would trade others believe addition flavor key \n",
            "Original summary: great tea with great flavor \n",
            "Predicted summary:  great tea\n",
            "\n",
            "\n",
            "Review: product good goes long way quite good one dd good product less \n",
            "Original summary: very good \n",
            "Predicted summary:  great product\n",
            "\n",
            "\n",
            "Review: love vendor decent price quick delivery also got free shipping great coffee delivered free door step \n",
            "Original summary: great coffee and vendor \n",
            "Predicted summary:  great product\n",
            "\n",
            "\n",
            "Review: little treats terrific dog loves spend long time digging toy stuff also great training really dish lot unlike reviewers find smoky smell well \n",
            "Original summary: great for \n",
            "Predicted summary:  my dog loves these\n",
            "\n",
            "\n",
            "Review: bones awesome dogs love great purchased went back buy huge increase price understand big increase really want buy anymore \n",
            "Original summary: great bones but confused about price \n",
            "Predicted summary:  great product\n",
            "\n",
            "\n",
            "Review: love medium full flavored roast smooth taste bitter acidic taste excellent coffee good value also try timothy kona good also \n",
            "Original summary: wonderful coffee \n",
            "Predicted summary:  great coffee\n",
            "\n",
            "\n",
            "Review: family raved pomegranate delights months one town carried brookside dark chocolate covered pomegranates lb bag arrived time prevent revolution tasty every morsel \n",
            "Original summary: just what the doctor ordered \n",
            "Predicted summary:  great product\n",
            "\n",
            "\n",
            "Review: flavor illy canned coffee enjoy much cappuccino flavor flavor rather harsh bitter caffeine jolt top would buy one cappucino flavor much nicer recommend instead \n",
            "Original summary: little too bitter \n",
            "Predicted summary:  good coffee\n",
            "\n",
            "\n",
            "Review: alot people product love breakfast drink every day skip day tell amazon want hear case costco \n",
            "Original summary: love it \n",
            "Predicted summary:  great product\n",
            "\n",
            "\n",
            "Review: great kind stuff toy put toy freezer stuffed make little dog empty know would use overweight dog lots calories \n",
            "Original summary: dogs cannot it \n",
            "Predicted summary:  great for dogs\n",
            "\n",
            "\n",
            "Review: great product oz really get sellers grocery store show price market really bear \n",
            "Original summary: this seller action packaged is over priced \n",
            "Predicted summary:  great product\n",
            "\n",
            "\n",
            "Review: corn nuts good brand name matter fact taste see feel difference \n",
            "Original summary: as good as the name brand \n",
            "Predicted summary:  not as good as expected\n",
            "\n",
            "\n",
            "Review: product contains trans fat partially hydrogenated palm kernel oil research rely companies tell whole truth \n",
            "Original summary: trans fat \n",
            "Predicted summary:  not what expected\n",
            "\n",
            "\n",
            "Review: love chips auto order every months taste great whole bag calories bag every day sure helped weight loss little bags eat huge amount \n",
            "Original summary: great purchase \n",
            "Predicted summary:  great chips\n",
            "\n",
            "\n",
            "Review: granny convenient sweet food delivered door sometimes bit challenge get store \n",
            "Original summary: baby food on \n",
            "Predicted summary:  great product\n",
            "\n",
            "\n",
            "Review: dog likes try give one everyday actually looks forward like treat thats plus another brand wouldnt eat step right direction \n",
            "Original summary: my dog likes them \n",
            "Predicted summary:  great product\n",
            "\n",
            "\n",
            "Review: loved brand best vanilla flavor others tried would buy better price \n",
            "Original summary: wolfgang puck coffee vanilla \n",
            "Predicted summary:  great coffee\n",
            "\n",
            "\n",
            "Review: like drink different flavored teas tea bags flavorful robust grandmother lipton tea fragrant good flavor whether drink hot iced recommend pleasant change usual orange pekoe \n",
            "Original summary: this tea makes good change \n",
            "Predicted summary:  great tea\n",
            "\n",
            "\n",
            "Review: bought granola newly diagnosed celiac desperate something clean eat great nice nutty taste good cinnamon taste crunchy would buy making granola definately worth buying \n",
            "Original summary: yum nice cinnamon taste \n",
            "Predicted summary:  great granola bar\n",
            "\n",
            "\n",
            "Review: love pink himalayan salt loaded minerals taste great use much conventional table salt feel bad using know also really good body \n",
            "Original summary: love this salt \n",
            "Predicted summary:  great salt\n",
            "\n",
            "\n",
            "Review: mean quit buying coffee amazon whole cheaper went website continue buy \n",
            "Original summary: am \n",
            "Predicted summary:  good coffee\n",
            "\n",
            "\n",
            "Review: cleanest ginger beer ever says fantastically overpoweringly ginger definitely watered sugary mess get every ginger drink give star hands world best \n",
            "Original summary: absolutely perfect ginger drink \n",
            "Predicted summary:  the best\n",
            "\n",
            "\n",
            "Review: mix easy add water taste hearty good makes outstanding waffles family great size open bag put mix metal cannister keep fresh \n",
            "Original summary: great waffles \n",
            "Predicted summary:  great product\n",
            "\n",
            "\n",
            "Review: would like point organic product even though amazon also good brand flax seeds \n",
            "Original summary: organic \n",
            "Predicted summary:  good product\n",
            "\n",
            "\n",
            "Review: tried every kind pork rinds market lowrey microwave pork rinds best ever given friends try totally agree problem hard find ordered case amazon \n",
            "Original summary: awesome \n",
            "Predicted summary:  pork rinds\n",
            "\n",
            "\n",
            "Review: ez life saver use everything never touch splenda anymore perfect days sweeten black coffee without calories fillers splenda perfect keto diet \n",
            "Original summary: perfect \n",
            "Predicted summary:  great product\n",
            "\n",
            "\n",
            "Review: son loves chocolate got birthday really outstanding chocolates \n",
            "Original summary: yummy \n",
            "Predicted summary:  great\n",
            "\n",
            "\n",
            "Review: realize big got ended giving fiance mom gsd \n",
            "Original summary: really for bigger dogs \n",
            "Predicted summary:  it is ok\n",
            "\n",
            "\n",
            "Review: hooked dunkin donuts chai one taste even better make steamed milk one scoop taste creamy yummy \n",
            "Original summary: deliciously \n",
            "Predicted summary:  great chai\n",
            "\n",
            "\n",
            "Review: bag got seemed mostly lemon lime gummy bears flavor good expected fine kids grandkids like ok adult disappointed even kids said ok decided order \n",
            "Original summary: taste was not as good as expected \n",
            "Predicted summary:  not as good as the\n",
            "\n",
            "\n",
            "Review: happy see list ingredients listing peas broccoli pears thinking package ingredients larger ingredients listed first ordering see package ingredient list yes pears majority ingredients common misleading way description written \n",
            "Original summary: pears and pears \n",
            "Predicted summary:  not as advertised\n",
            "\n",
            "\n",
            "Review: way afford amazon com aware state buy \n",
            "Original summary: how come the price is so high \n",
            "Predicted summary:  great price\n",
            "\n",
            "\n",
            "Review: awesome product coffee tastes delicious didnt expected good nespresso capsules totally recommend product \n",
            "Original summary: totally worth it \n",
            "Predicted summary:  not as advertised\n",
            "\n",
            "\n",
            "Review: tried number green teas favorite far wonderful flavors powering add little honey make sweet love stop making \n",
            "Original summary: only ice tea will drink now \n",
            "Predicted summary:  great tea\n",
            "\n",
            "\n",
            "Review: cannot say enough good things vita coco pure coconut water excellent beverage great flu replenish electrolytes hydrate body \n",
            "Original summary: best drink on the market \n",
            "Predicted summary:  great taste\n",
            "\n",
            "\n",
            "Review: purchased bars via amazon subscribe save eaten one pretty dang tasty got opened one chocolate light brown color like old chocolate looks tasted bad threw box away purchase \n",
            "Original summary: bars were old and tasted funny \n",
            "Predicted summary:  bars\n",
            "\n",
            "\n",
            "Review: kids luv kids make cotton candy friends come fast ez great buy \n",
            "Original summary: luv it \n",
            "Predicted summary:  great\n",
            "\n",
            "\n",
            "Review: found spice blend dallas years back tell restaurant using grilled shrimp like cajun spice grilling fish recommend store dry place replace every year least lose flavor \n",
            "Original summary: good stuff \n",
            "Predicted summary:  great stuff\n",
            "\n",
            "\n",
            "Review: bought product coupon little expensive give one week dog dog loves could speak would say please give one day \n",
            "Original summary: the best \n",
            "Predicted summary:  great product\n",
            "\n",
            "\n"
          ],
          "name": "stdout"
        }
      ]
    }
  ]
}